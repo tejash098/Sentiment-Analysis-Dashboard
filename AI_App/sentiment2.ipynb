{
  "cells": [
    {
      "cell_type": "code",
      "execution_count": null,
      "metadata": {
        "id": "2I-zzaADJiz6",
        "outputId": "ea806214-4198-4558-de8b-c1980573de4c",
        "colab": {
          "base_uri": "https://localhost:8080/"
        }
      },
      "outputs": [
        {
          "output_type": "stream",
          "name": "stderr",
          "text": [
            "[nltk_data] Downloading package punkt to /root/nltk_data...\n",
            "[nltk_data]   Unzipping tokenizers/punkt.zip.\n"
          ]
        }
      ],
      "source": [
        "import pandas as pd\n",
        "import numpy as np\n",
        "import matplotlib.pyplot as plt\n",
        "import seaborn as sns\n",
        "import nltk\n",
        "nltk.download('punkt')\n",
        "\n",
        "from nltk.tokenize import word_tokenize\n",
        "from keras.preprocessing.text import Tokenizer\n",
        "from keras.preprocessing.sequence import pad_sequences\n",
        "from keras.models import Sequential\n",
        "from keras.layers import Embedding, LSTM, Dense, Dropout\n",
        "from sklearn.preprocessing import LabelEncoder\n",
        "\n",
        "import warnings\n",
        "warnings.filterwarnings('ignore')\n",
        "sns.set()"
      ]
    },
    {
      "cell_type": "code",
      "source": [
        "# mounting the drive\n",
        "from google.colab import drive\n",
        "drive.mount('/content/drive/')"
      ],
      "metadata": {
        "colab": {
          "base_uri": "https://localhost:8080/"
        },
        "id": "8SegcAlRzm09",
        "outputId": "1ab1b8df-5671-4e4a-bdbf-3c820673d3f2"
      },
      "execution_count": null,
      "outputs": [
        {
          "output_type": "stream",
          "name": "stdout",
          "text": [
            "Mounted at /content/drive/\n"
          ]
        }
      ]
    },
    {
      "cell_type": "code",
      "source": [
        "# reading the data in a dataframe df\n",
        "imdb = pd.read_csv('/content/drive/My Drive/Dataset/IMDB Dataset.csv', encoding='latin-1')"
      ],
      "metadata": {
        "id": "YJzG0VLozm6r"
      },
      "execution_count": null,
      "outputs": []
    },
    {
      "cell_type": "code",
      "execution_count": null,
      "metadata": {
        "id": "uODbqUk_Ji0D",
        "outputId": "dc66244f-bc1b-44cb-9509-496942fc77ac",
        "colab": {
          "base_uri": "https://localhost:8080/",
          "height": 206
        }
      },
      "outputs": [
        {
          "output_type": "execute_result",
          "data": {
            "text/plain": [
              "                                              review sentiment\n",
              "0  One of the other reviewers has mentioned that ...  positive\n",
              "1  A wonderful little production. <br /><br />The...  positive\n",
              "2  I thought this was a wonderful way to spend ti...  positive\n",
              "3  Basically there's a family where a little boy ...  negative\n",
              "4  Petter Mattei's \"Love in the Time of Money\" is...  positive"
            ],
            "text/html": [
              "\n",
              "  <div id=\"df-3a5f25ef-0ea7-475b-aa5c-ec267adff777\" class=\"colab-df-container\">\n",
              "    <div>\n",
              "<style scoped>\n",
              "    .dataframe tbody tr th:only-of-type {\n",
              "        vertical-align: middle;\n",
              "    }\n",
              "\n",
              "    .dataframe tbody tr th {\n",
              "        vertical-align: top;\n",
              "    }\n",
              "\n",
              "    .dataframe thead th {\n",
              "        text-align: right;\n",
              "    }\n",
              "</style>\n",
              "<table border=\"1\" class=\"dataframe\">\n",
              "  <thead>\n",
              "    <tr style=\"text-align: right;\">\n",
              "      <th></th>\n",
              "      <th>review</th>\n",
              "      <th>sentiment</th>\n",
              "    </tr>\n",
              "  </thead>\n",
              "  <tbody>\n",
              "    <tr>\n",
              "      <th>0</th>\n",
              "      <td>One of the other reviewers has mentioned that ...</td>\n",
              "      <td>positive</td>\n",
              "    </tr>\n",
              "    <tr>\n",
              "      <th>1</th>\n",
              "      <td>A wonderful little production. &lt;br /&gt;&lt;br /&gt;The...</td>\n",
              "      <td>positive</td>\n",
              "    </tr>\n",
              "    <tr>\n",
              "      <th>2</th>\n",
              "      <td>I thought this was a wonderful way to spend ti...</td>\n",
              "      <td>positive</td>\n",
              "    </tr>\n",
              "    <tr>\n",
              "      <th>3</th>\n",
              "      <td>Basically there's a family where a little boy ...</td>\n",
              "      <td>negative</td>\n",
              "    </tr>\n",
              "    <tr>\n",
              "      <th>4</th>\n",
              "      <td>Petter Mattei's \"Love in the Time of Money\" is...</td>\n",
              "      <td>positive</td>\n",
              "    </tr>\n",
              "  </tbody>\n",
              "</table>\n",
              "</div>\n",
              "    <div class=\"colab-df-buttons\">\n",
              "\n",
              "  <div class=\"colab-df-container\">\n",
              "    <button class=\"colab-df-convert\" onclick=\"convertToInteractive('df-3a5f25ef-0ea7-475b-aa5c-ec267adff777')\"\n",
              "            title=\"Convert this dataframe to an interactive table.\"\n",
              "            style=\"display:none;\">\n",
              "\n",
              "  <svg xmlns=\"http://www.w3.org/2000/svg\" height=\"24px\" viewBox=\"0 -960 960 960\">\n",
              "    <path d=\"M120-120v-720h720v720H120Zm60-500h600v-160H180v160Zm220 220h160v-160H400v160Zm0 220h160v-160H400v160ZM180-400h160v-160H180v160Zm440 0h160v-160H620v160ZM180-180h160v-160H180v160Zm440 0h160v-160H620v160Z\"/>\n",
              "  </svg>\n",
              "    </button>\n",
              "\n",
              "  <style>\n",
              "    .colab-df-container {\n",
              "      display:flex;\n",
              "      gap: 12px;\n",
              "    }\n",
              "\n",
              "    .colab-df-convert {\n",
              "      background-color: #E8F0FE;\n",
              "      border: none;\n",
              "      border-radius: 50%;\n",
              "      cursor: pointer;\n",
              "      display: none;\n",
              "      fill: #1967D2;\n",
              "      height: 32px;\n",
              "      padding: 0 0 0 0;\n",
              "      width: 32px;\n",
              "    }\n",
              "\n",
              "    .colab-df-convert:hover {\n",
              "      background-color: #E2EBFA;\n",
              "      box-shadow: 0px 1px 2px rgba(60, 64, 67, 0.3), 0px 1px 3px 1px rgba(60, 64, 67, 0.15);\n",
              "      fill: #174EA6;\n",
              "    }\n",
              "\n",
              "    .colab-df-buttons div {\n",
              "      margin-bottom: 4px;\n",
              "    }\n",
              "\n",
              "    [theme=dark] .colab-df-convert {\n",
              "      background-color: #3B4455;\n",
              "      fill: #D2E3FC;\n",
              "    }\n",
              "\n",
              "    [theme=dark] .colab-df-convert:hover {\n",
              "      background-color: #434B5C;\n",
              "      box-shadow: 0px 1px 3px 1px rgba(0, 0, 0, 0.15);\n",
              "      filter: drop-shadow(0px 1px 2px rgba(0, 0, 0, 0.3));\n",
              "      fill: #FFFFFF;\n",
              "    }\n",
              "  </style>\n",
              "\n",
              "    <script>\n",
              "      const buttonEl =\n",
              "        document.querySelector('#df-3a5f25ef-0ea7-475b-aa5c-ec267adff777 button.colab-df-convert');\n",
              "      buttonEl.style.display =\n",
              "        google.colab.kernel.accessAllowed ? 'block' : 'none';\n",
              "\n",
              "      async function convertToInteractive(key) {\n",
              "        const element = document.querySelector('#df-3a5f25ef-0ea7-475b-aa5c-ec267adff777');\n",
              "        const dataTable =\n",
              "          await google.colab.kernel.invokeFunction('convertToInteractive',\n",
              "                                                    [key], {});\n",
              "        if (!dataTable) return;\n",
              "\n",
              "        const docLinkHtml = 'Like what you see? Visit the ' +\n",
              "          '<a target=\"_blank\" href=https://colab.research.google.com/notebooks/data_table.ipynb>data table notebook</a>'\n",
              "          + ' to learn more about interactive tables.';\n",
              "        element.innerHTML = '';\n",
              "        dataTable['output_type'] = 'display_data';\n",
              "        await google.colab.output.renderOutput(dataTable, element);\n",
              "        const docLink = document.createElement('div');\n",
              "        docLink.innerHTML = docLinkHtml;\n",
              "        element.appendChild(docLink);\n",
              "      }\n",
              "    </script>\n",
              "  </div>\n",
              "\n",
              "\n",
              "<div id=\"df-abea82e6-65af-4963-b0cf-e5bbf0a996a6\">\n",
              "  <button class=\"colab-df-quickchart\" onclick=\"quickchart('df-abea82e6-65af-4963-b0cf-e5bbf0a996a6')\"\n",
              "            title=\"Suggest charts\"\n",
              "            style=\"display:none;\">\n",
              "\n",
              "<svg xmlns=\"http://www.w3.org/2000/svg\" height=\"24px\"viewBox=\"0 0 24 24\"\n",
              "     width=\"24px\">\n",
              "    <g>\n",
              "        <path d=\"M19 3H5c-1.1 0-2 .9-2 2v14c0 1.1.9 2 2 2h14c1.1 0 2-.9 2-2V5c0-1.1-.9-2-2-2zM9 17H7v-7h2v7zm4 0h-2V7h2v10zm4 0h-2v-4h2v4z\"/>\n",
              "    </g>\n",
              "</svg>\n",
              "  </button>\n",
              "\n",
              "<style>\n",
              "  .colab-df-quickchart {\n",
              "      --bg-color: #E8F0FE;\n",
              "      --fill-color: #1967D2;\n",
              "      --hover-bg-color: #E2EBFA;\n",
              "      --hover-fill-color: #174EA6;\n",
              "      --disabled-fill-color: #AAA;\n",
              "      --disabled-bg-color: #DDD;\n",
              "  }\n",
              "\n",
              "  [theme=dark] .colab-df-quickchart {\n",
              "      --bg-color: #3B4455;\n",
              "      --fill-color: #D2E3FC;\n",
              "      --hover-bg-color: #434B5C;\n",
              "      --hover-fill-color: #FFFFFF;\n",
              "      --disabled-bg-color: #3B4455;\n",
              "      --disabled-fill-color: #666;\n",
              "  }\n",
              "\n",
              "  .colab-df-quickchart {\n",
              "    background-color: var(--bg-color);\n",
              "    border: none;\n",
              "    border-radius: 50%;\n",
              "    cursor: pointer;\n",
              "    display: none;\n",
              "    fill: var(--fill-color);\n",
              "    height: 32px;\n",
              "    padding: 0;\n",
              "    width: 32px;\n",
              "  }\n",
              "\n",
              "  .colab-df-quickchart:hover {\n",
              "    background-color: var(--hover-bg-color);\n",
              "    box-shadow: 0 1px 2px rgba(60, 64, 67, 0.3), 0 1px 3px 1px rgba(60, 64, 67, 0.15);\n",
              "    fill: var(--button-hover-fill-color);\n",
              "  }\n",
              "\n",
              "  .colab-df-quickchart-complete:disabled,\n",
              "  .colab-df-quickchart-complete:disabled:hover {\n",
              "    background-color: var(--disabled-bg-color);\n",
              "    fill: var(--disabled-fill-color);\n",
              "    box-shadow: none;\n",
              "  }\n",
              "\n",
              "  .colab-df-spinner {\n",
              "    border: 2px solid var(--fill-color);\n",
              "    border-color: transparent;\n",
              "    border-bottom-color: var(--fill-color);\n",
              "    animation:\n",
              "      spin 1s steps(1) infinite;\n",
              "  }\n",
              "\n",
              "  @keyframes spin {\n",
              "    0% {\n",
              "      border-color: transparent;\n",
              "      border-bottom-color: var(--fill-color);\n",
              "      border-left-color: var(--fill-color);\n",
              "    }\n",
              "    20% {\n",
              "      border-color: transparent;\n",
              "      border-left-color: var(--fill-color);\n",
              "      border-top-color: var(--fill-color);\n",
              "    }\n",
              "    30% {\n",
              "      border-color: transparent;\n",
              "      border-left-color: var(--fill-color);\n",
              "      border-top-color: var(--fill-color);\n",
              "      border-right-color: var(--fill-color);\n",
              "    }\n",
              "    40% {\n",
              "      border-color: transparent;\n",
              "      border-right-color: var(--fill-color);\n",
              "      border-top-color: var(--fill-color);\n",
              "    }\n",
              "    60% {\n",
              "      border-color: transparent;\n",
              "      border-right-color: var(--fill-color);\n",
              "    }\n",
              "    80% {\n",
              "      border-color: transparent;\n",
              "      border-right-color: var(--fill-color);\n",
              "      border-bottom-color: var(--fill-color);\n",
              "    }\n",
              "    90% {\n",
              "      border-color: transparent;\n",
              "      border-bottom-color: var(--fill-color);\n",
              "    }\n",
              "  }\n",
              "</style>\n",
              "\n",
              "  <script>\n",
              "    async function quickchart(key) {\n",
              "      const quickchartButtonEl =\n",
              "        document.querySelector('#' + key + ' button');\n",
              "      quickchartButtonEl.disabled = true;  // To prevent multiple clicks.\n",
              "      quickchartButtonEl.classList.add('colab-df-spinner');\n",
              "      try {\n",
              "        const charts = await google.colab.kernel.invokeFunction(\n",
              "            'suggestCharts', [key], {});\n",
              "      } catch (error) {\n",
              "        console.error('Error during call to suggestCharts:', error);\n",
              "      }\n",
              "      quickchartButtonEl.classList.remove('colab-df-spinner');\n",
              "      quickchartButtonEl.classList.add('colab-df-quickchart-complete');\n",
              "    }\n",
              "    (() => {\n",
              "      let quickchartButtonEl =\n",
              "        document.querySelector('#df-abea82e6-65af-4963-b0cf-e5bbf0a996a6 button');\n",
              "      quickchartButtonEl.style.display =\n",
              "        google.colab.kernel.accessAllowed ? 'block' : 'none';\n",
              "    })();\n",
              "  </script>\n",
              "</div>\n",
              "\n",
              "    </div>\n",
              "  </div>\n"
            ],
            "application/vnd.google.colaboratory.intrinsic+json": {
              "type": "dataframe",
              "variable_name": "imdb",
              "summary": "{\n  \"name\": \"imdb\",\n  \"rows\": 50000,\n  \"fields\": [\n    {\n      \"column\": \"review\",\n      \"properties\": {\n        \"dtype\": \"string\",\n        \"num_unique_values\": 49582,\n        \"samples\": [\n          \"\\\"Soul Plane\\\" is a horrible attempt at comedy that only should appeal people with thick skulls, bloodshot eyes and furry pawns. <br /><br />The plot is not only incoherent but also non-existent, acting is mostly sub sub-par with a gang of highly moronic and dreadful characters thrown in for bad measure, jokes are often spotted miles ahead and almost never even a bit amusing. This movie lacks any structure and is full of racial stereotypes that must have seemed old even in the fifties, the only thing it really has going for it is some pretty ladies, but really, if you want that you can rent something from the \\\"Adult\\\" section. OK?<br /><br />I can hardly see anything here to recommend since you'll probably have a lot a better and productive time chasing rats with a sledgehammer or inventing waterproof teabags or whatever.<br /><br />2/10\",\n          \"Guest from the Future tells a fascinating story of time travel, friendship, battle of good and evil -- all with a small budget, child actors, and few special effects. Something for Spielberg and Lucas to learn from. ;) A sixth-grader Kolya \\\"Nick\\\" Gerasimov finds a time machine in the basement of a decrepit building and travels 100 years into the future. He discovers a near-perfect, utopian society where robots play guitars and write poetry, everyone is kind to each other and people enjoy everything technology has to offer. Alice is the daughter of a prominent scientist who invented a device called Mielophone that allows to read minds of humans and animals. The device can be put to both good and bad use, depending on whose hands it falls into. When two evil space pirates from Saturn who want to rule the universe attempt to steal Mielophone, it falls into the hands of 20th century school boy Nick. With the pirates hot on his tracks, he travels back to his time, followed by the pirates, and Alice. Chaos, confusion and funny situations follow as the luckless pirates try to blend in with the earthlings. Alice enrolls in the same school Nick goes to and demonstrates superhuman abilities in PE class. The catch is, Alice doesn't know what Nick looks like, while the pirates do. Also, the pirates are able to change their appearance and turn literally into anyone. (Hmm, I wonder if this is where James Cameron got the idea for Terminator...) Who gets to Nick -- and Mielophone -- first? Excellent plot, non-stop adventures, and great soundtrack. I wish Hollywood made kid movies like this one...\",\n          \"\\\"National Treasure\\\" (2004) is a thoroughly misguided hodge-podge of plot entanglements that borrow from nearly every cloak and dagger government conspiracy clich\\u00c3\\u00a9 that has ever been written. The film stars Nicholas Cage as Benjamin Franklin Gates (how precious is that, I ask you?); a seemingly normal fellow who, for no other reason than being of a lineage of like-minded misguided fortune hunters, decides to steal a 'national treasure' that has been hidden by the United States founding fathers. After a bit of subtext and background that plays laughably (unintentionally) like Indiana Jones meets The Patriot, the film degenerates into one misguided whimsy after another \\u00c2\\u0096 attempting to create a 'Stanley Goodspeed' regurgitation of Nicholas Cage and launch the whole convoluted mess forward with a series of high octane, but disconnected misadventures.<br /><br />The relevancy and logic to having George Washington and his motley crew of patriots burying a king's ransom someplace on native soil, and then, going through the meticulous plan of leaving clues scattered throughout U.S. currency art work, is something that director Jon Turteltaub never quite gets around to explaining. Couldn't Washington found better usage for such wealth during the start up of the country? Hence, we are left with a mystery built on top of an enigma that is already on shaky ground by the time Ben appoints himself the new custodian of this untold wealth. Ben's intentions are noble \\u00c2\\u0096 if confusing. He's set on protecting the treasure. For who and when?\\u00c2\\u0085your guess is as good as mine.<br /><br />But there are a few problems with Ben's crusade. First up, his friend, Ian Holmes (Sean Bean) decides that he can't wait for Ben to make up his mind about stealing the Declaration of Independence from the National Archives (oh, yeah \\u00c2\\u0096 brilliant idea!). Presumably, the back of that famous document holds the secret answer to the ultimate fortune. So Ian tries to kill Ben. The assassination attempt is, of course, unsuccessful, if overly melodramatic. It also affords Ben the opportunity to pick up, and pick on, the very sultry curator of the archives, Abigail Chase (Diane Kruger). She thinks Ben is clearly a nut \\u00c2\\u0096 at least at the beginning. But true to action/romance form, Abby's resolve melts quicker than you can say, \\\"is that the Hope Diamond?\\\" The film moves into full X-File-ish mode, as the FBI, mistakenly believing that Ben is behind the theft, retaliate in various benign ways that lead to a multi-layering of action sequences reminiscent of Mission Impossible meets The Fugitive. Honestly, don't those guys ever get 'intelligence' information that is correct? In the final analysis, \\\"National Treasure\\\" isn't great film making, so much as it's a patchwork rehash of tired old bits from other movies, woven together from scraps, the likes of which would make IL' Betsy Ross blush.<br /><br />The Buena Vista DVD delivers a far more generous treatment than this film is deserving of. The anamorphic widescreen picture exhibits a very smooth and finely detailed image with very rich colors, natural flesh tones, solid blacks and clean whites. The stylized image is also free of blemishes and digital enhancements. The audio is 5.1 and delivers a nice sonic boom to your side and rear speakers with intensity and realism. Extras include a host of promotional junket material that is rather deep and over the top in its explanation of how and why this film was made. If only, as an audience, we had had more clarification as to why Ben and co. were chasing after an illusive treasure, this might have been one good flick. Extras conclude with the theatrical trailer, audio commentary and deleted scenes. Not for the faint-hearted \\u00c2\\u0096 just the thick-headed.\"\n        ],\n        \"semantic_type\": \"\",\n        \"description\": \"\"\n      }\n    },\n    {\n      \"column\": \"sentiment\",\n      \"properties\": {\n        \"dtype\": \"category\",\n        \"num_unique_values\": 2,\n        \"samples\": [\n          \"negative\",\n          \"positive\"\n        ],\n        \"semantic_type\": \"\",\n        \"description\": \"\"\n      }\n    }\n  ]\n}"
            }
          },
          "metadata": {},
          "execution_count": 4
        }
      ],
      "source": [
        "imdb.head()"
      ]
    },
    {
      "cell_type": "code",
      "execution_count": null,
      "metadata": {
        "id": "EEhKt8slJi0F",
        "outputId": "db3d6400-d764-4c95-c1e8-0730789f0961",
        "colab": {
          "base_uri": "https://localhost:8080/"
        }
      },
      "outputs": [
        {
          "output_type": "execute_result",
          "data": {
            "text/plain": [
              "sentiment\n",
              "positive    25000\n",
              "negative    25000\n",
              "Name: count, dtype: int64"
            ]
          },
          "metadata": {},
          "execution_count": 5
        }
      ],
      "source": [
        "imdb.sentiment.value_counts()"
      ]
    },
    {
      "cell_type": "code",
      "execution_count": null,
      "metadata": {
        "id": "KZkv3Zb4Ji0G",
        "outputId": "ba01abf5-e2a5-45e5-cbcd-b67bb90c8596",
        "colab": {
          "base_uri": "https://localhost:8080/"
        }
      },
      "outputs": [
        {
          "output_type": "stream",
          "name": "stdout",
          "text": [
            "Basically there's a family where a little boy (Jake) thinks there's a zombie in his closet & his parents are fighting all the time.<br /><br />This movie is slower than a soap opera... and suddenly, Jake decides to become Rambo and kill the zombie.<br /><br />OK, first of all when you're going to make a film you must Decide if its a thriller or a drama! As a drama the movie is watchable. Parents are divorcing & arguing like in real life. And then we have Jake with his closet which totally ruins all the film! I expected to see a BOOGEYMAN similar movie, and instead i watched a drama with some meaningless thriller spots.<br /><br />3 out of 10 just for the well playing parents & descent dialogs. As for the shots with Jake: just ignore them.\n",
            "['Basically', 'there', \"'s\", 'a', 'family', 'where', 'a', 'little', 'boy', '(', 'Jake', ')', 'thinks', 'there', \"'s\", 'a', 'zombie', 'in', 'his', 'closet', '&', 'his', 'parents', 'are', 'fighting', 'all', 'the', 'time.', '<', 'br', '/', '>', '<', 'br', '/', '>', 'This', 'movie', 'is', 'slower', 'than', 'a', 'soap', 'opera', '...', 'and', 'suddenly', ',', 'Jake', 'decides', 'to', 'become', 'Rambo', 'and', 'kill', 'the', 'zombie.', '<', 'br', '/', '>', '<', 'br', '/', '>', 'OK', ',', 'first', 'of', 'all', 'when', 'you', \"'re\", 'going', 'to', 'make', 'a', 'film', 'you', 'must', 'Decide', 'if', 'its', 'a', 'thriller', 'or', 'a', 'drama', '!', 'As', 'a', 'drama', 'the', 'movie', 'is', 'watchable', '.', 'Parents', 'are', 'divorcing', '&', 'arguing', 'like', 'in', 'real', 'life', '.', 'And', 'then', 'we', 'have', 'Jake', 'with', 'his', 'closet', 'which', 'totally', 'ruins', 'all', 'the', 'film', '!', 'I', 'expected', 'to', 'see', 'a', 'BOOGEYMAN', 'similar', 'movie', ',', 'and', 'instead', 'i', 'watched', 'a', 'drama', 'with', 'some', 'meaningless', 'thriller', 'spots.', '<', 'br', '/', '>', '<', 'br', '/', '>', '3', 'out', 'of', '10', 'just', 'for', 'the', 'well', 'playing', 'parents', '&', 'descent', 'dialogs', '.', 'As', 'for', 'the', 'shots', 'with', 'Jake', ':', 'just', 'ignore', 'them', '.']\n"
          ]
        }
      ],
      "source": [
        "text = imdb['review'][3]\n",
        "print(text)\n",
        "print(word_tokenize(text))"
      ]
    },
    {
      "cell_type": "code",
      "execution_count": null,
      "metadata": {
        "id": "1DA6s8kaJi0H"
      },
      "outputs": [],
      "source": [
        "corpus = []\n",
        "for text in imdb['review']:\n",
        "    words = [word.lower() for word in word_tokenize(text)]\n",
        "    corpus.append(words)"
      ]
    },
    {
      "cell_type": "code",
      "execution_count": null,
      "metadata": {
        "id": "W6oWs4MrJi0H",
        "outputId": "6f7987b4-a49e-44dd-8585-d3cc47b02a15",
        "colab": {
          "base_uri": "https://localhost:8080/"
        }
      },
      "outputs": [
        {
          "output_type": "stream",
          "name": "stdout",
          "text": [
            "50000\n"
          ]
        }
      ],
      "source": [
        "num_words = len(corpus)\n",
        "print(num_words)"
      ]
    },
    {
      "cell_type": "markdown",
      "metadata": {
        "id": "B5VLVMR4Ji0I"
      },
      "source": [
        "Splitting Data into training(80%) and testing(20%)"
      ]
    },
    {
      "cell_type": "code",
      "execution_count": null,
      "metadata": {
        "id": "NkhuhDmWJi0L",
        "outputId": "b677e90c-9d38-4ae6-8cca-8d52e88a9a25",
        "colab": {
          "base_uri": "https://localhost:8080/"
        }
      },
      "outputs": [
        {
          "output_type": "execute_result",
          "data": {
            "text/plain": [
              "(50000, 2)"
            ]
          },
          "metadata": {},
          "execution_count": 9
        }
      ],
      "source": [
        "imdb.shape"
      ]
    },
    {
      "cell_type": "code",
      "execution_count": null,
      "metadata": {
        "id": "z7DxSPONJi0O"
      },
      "outputs": [],
      "source": [
        "train_size = int(imdb.shape[0]*0.8)\n",
        "X_train = imdb.review[:train_size]\n",
        "Y_train = imdb.sentiment[:train_size]\n",
        "\n",
        "X_test = imdb.review[train_size:]\n",
        "Y_test = imdb.sentiment[train_size:]"
      ]
    },
    {
      "cell_type": "markdown",
      "metadata": {
        "id": "QZGmJpgEJi0P"
      },
      "source": [
        "Tokenizing the words and padding for equal input dimensions"
      ]
    },
    {
      "cell_type": "code",
      "execution_count": null,
      "metadata": {
        "id": "V03_BawOJi0Q"
      },
      "outputs": [],
      "source": [
        "tokenizer = Tokenizer (num_words)\n",
        "tokenizer.fit_on_texts(X_train)\n",
        "X_train = tokenizer.texts_to_sequences(X_train)\n",
        "X_train = pad_sequences(X_train, maxlen=128, truncating='post', padding='post')"
      ]
    },
    {
      "cell_type": "code",
      "execution_count": null,
      "metadata": {
        "id": "hpX1Dj2GJi0Q",
        "outputId": "3705ec17-99cb-41ec-eb29-0b67477d7bdf",
        "colab": {
          "base_uri": "https://localhost:8080/"
        }
      },
      "outputs": [
        {
          "output_type": "execute_result",
          "data": {
            "text/plain": [
              "(array([   27,     4,     1,    80,  2102,    45,  1073,    12,   100,\n",
              "          147,    39,   316,  2968,   409,   459,    26,  3173,    33,\n",
              "           23,   200,    14,    11,     6,   614,    48,   606,    16,\n",
              "           68,     7,     7,     1,    87,   148,    12,  3256,    68,\n",
              "           41,  2968,    13,    92,  5626,     2, 16202,   134,     4,\n",
              "          569,    60,   271,     8,   200,    36,     1,   673,   139,\n",
              "         1712,    68,    11,     6,    21,     3,   118,    15,     1,\n",
              "         7870,  2257,    38, 11540,    11,   118,  2495,    54,  5662,\n",
              "           16,  5182,     5,  1438,   377,    38,   569,    92,     6,\n",
              "         3730,     8,     1,   360,   353,     4,     1,   673,     7,\n",
              "            7,     9,     6,   431,  2968,    14,    12,     6,     1,\n",
              "        11736,   356,     5,     1, 14688,  6526,  2594,  1087,     9,\n",
              "         2661,  1432,    20, 22583,   534,    32,  4795,  2451,     4,\n",
              "            1,  1193,   117,    29,     1,  6893,    25,  2874, 12191,\n",
              "            2,   392], dtype=int32),\n",
              " 128)"
            ]
          },
          "metadata": {},
          "execution_count": 12
        }
      ],
      "source": [
        "X_train[0], len(X_train[0])"
      ]
    },
    {
      "cell_type": "code",
      "execution_count": null,
      "metadata": {
        "id": "hNknLY38Ji0Q"
      },
      "outputs": [],
      "source": [
        "X_test = tokenizer.texts_to_sequences(X_test)\n",
        "X_test = pad_sequences(X_test, maxlen=128, truncating='post', padding='post')"
      ]
    },
    {
      "cell_type": "code",
      "execution_count": null,
      "metadata": {
        "id": "OI-YVKGIJi0R",
        "outputId": "585c2d31-18e8-42d1-9027-ed7c5ae45628",
        "colab": {
          "base_uri": "https://localhost:8080/"
        }
      },
      "outputs": [
        {
          "output_type": "execute_result",
          "data": {
            "text/plain": [
              "(array([   87,   122,    10,   180,     5,   132,    12,    10,  7131,\n",
              "         3717,    20,     1,  1001,  2285,     2,    10,   255,     1,\n",
              "           17,  2431,    10,  1311,     5,   103,     1,   222,  6349,\n",
              "            4,     3,    19,    11,    17,   974,     3,   351,     5,\n",
              "          215,  1011,   415,     9,    13,   215,  1380,    56,   235,\n",
              "          402,   300,     4,   316,    23,   257,    19,   961,    12,\n",
              "        22250,    12,    33,    66,    61,   212,    53,    16,    11,\n",
              "          113,    13,   497,     2,     1,   102,    70,  5358,    15,\n",
              "            1,    88,   172,     1,   473,   824,     8,     1,    64,\n",
              "           67,    54,    49,  2406,    30,    29,    33,    90,    40,\n",
              "        35786,    83,    46,   438,     4,     3,    74,   220,     2,\n",
              "           10,   115,    21,    63,    12,    30,    29,   268,    10,\n",
              "         1059,   137,    10,    78,    21,   119,    28,    13,     1,\n",
              "           88,   175,     5,   728,  3423,   108,     8,     1,    17,\n",
              "           10,   115], dtype=int32),\n",
              " 128)"
            ]
          },
          "metadata": {},
          "execution_count": 14
        }
      ],
      "source": [
        "X_test[0], len(X_test[0])"
      ]
    },
    {
      "cell_type": "code",
      "execution_count": null,
      "metadata": {
        "id": "HJFUlba_Ji0S",
        "outputId": "e74e1e12-b6b4-41c5-8da1-6f50c104b6e5",
        "colab": {
          "base_uri": "https://localhost:8080/"
        }
      },
      "outputs": [
        {
          "output_type": "stream",
          "name": "stdout",
          "text": [
            "(40000, 128) (40000,)\n",
            "(10000, 128) (10000,)\n"
          ]
        }
      ],
      "source": [
        "print(X_train.shape, Y_train.shape)\n",
        "print(X_test.shape, Y_test.shape)"
      ]
    },
    {
      "cell_type": "code",
      "execution_count": null,
      "metadata": {
        "id": "X7NRdPtNJi0S"
      },
      "outputs": [],
      "source": [
        "le = LabelEncoder()\n",
        "Y_train = le.fit_transform(Y_train)\n",
        "Y_test = le.transform(Y_test)"
      ]
    },
    {
      "cell_type": "markdown",
      "metadata": {
        "id": "W3_PxbppJi0T"
      },
      "source": [
        "Creating a LSTM base Model"
      ]
    },
    {
      "cell_type": "code",
      "execution_count": null,
      "metadata": {
        "id": "9Tm7iVVDJi0T",
        "outputId": "f2c99378-70be-4efc-f3cb-1ba851477b0e",
        "colab": {
          "base_uri": "https://localhost:8080/"
        }
      },
      "outputs": [
        {
          "output_type": "stream",
          "name": "stdout",
          "text": [
            "Model: \"sequential\"\n",
            "_________________________________________________________________\n",
            " Layer (type)                Output Shape              Param #   \n",
            "=================================================================\n",
            " embedding (Embedding)       (None, 128, 100)          5000000   \n",
            "                                                                 \n",
            " lstm (LSTM)                 (None, 128, 100)          80400     \n",
            "                                                                 \n",
            " lstm_1 (LSTM)               (None, 100)               80400     \n",
            "                                                                 \n",
            " dense (Dense)               (None, 1)                 101       \n",
            "                                                                 \n",
            "=================================================================\n",
            "Total params: 5160901 (19.69 MB)\n",
            "Trainable params: 5160901 (19.69 MB)\n",
            "Non-trainable params: 0 (0.00 Byte)\n",
            "_________________________________________________________________\n",
            "None\n",
            "Epoch 1/20\n",
            "625/625 [==============================] - 60s 86ms/step - loss: 0.4350 - accuracy: 0.7947 - val_loss: 0.3746 - val_accuracy: 0.8285\n",
            "Epoch 2/20\n",
            "625/625 [==============================] - 19s 31ms/step - loss: 0.2702 - accuracy: 0.8966 - val_loss: 0.4870 - val_accuracy: 0.7732\n",
            "Epoch 3/20\n",
            "625/625 [==============================] - 14s 23ms/step - loss: 0.2058 - accuracy: 0.9269 - val_loss: 0.3567 - val_accuracy: 0.8540\n",
            "Epoch 4/20\n",
            "625/625 [==============================] - 11s 17ms/step - loss: 0.1460 - accuracy: 0.9484 - val_loss: 0.4395 - val_accuracy: 0.8525\n",
            "Epoch 5/20\n",
            "625/625 [==============================] - 12s 19ms/step - loss: 0.1135 - accuracy: 0.9614 - val_loss: 0.4629 - val_accuracy: 0.8485\n",
            "Epoch 6/20\n",
            "625/625 [==============================] - 12s 19ms/step - loss: 0.0969 - accuracy: 0.9682 - val_loss: 0.5922 - val_accuracy: 0.8505\n",
            "Epoch 7/20\n",
            "625/625 [==============================] - 11s 18ms/step - loss: 0.1019 - accuracy: 0.9653 - val_loss: 0.5485 - val_accuracy: 0.8367\n",
            "Epoch 8/20\n",
            "625/625 [==============================] - 11s 18ms/step - loss: 0.0719 - accuracy: 0.9768 - val_loss: 0.6471 - val_accuracy: 0.6319\n",
            "Epoch 9/20\n",
            "625/625 [==============================] - 10s 17ms/step - loss: 0.1325 - accuracy: 0.9488 - val_loss: 0.4970 - val_accuracy: 0.8410\n",
            "Epoch 10/20\n",
            "625/625 [==============================] - 10s 17ms/step - loss: 0.0432 - accuracy: 0.9862 - val_loss: 0.6501 - val_accuracy: 0.8404\n",
            "Epoch 11/20\n",
            "625/625 [==============================] - 10s 16ms/step - loss: 0.0312 - accuracy: 0.9908 - val_loss: 0.7380 - val_accuracy: 0.8380\n",
            "Epoch 12/20\n",
            "625/625 [==============================] - 11s 17ms/step - loss: 0.0278 - accuracy: 0.9915 - val_loss: 0.7170 - val_accuracy: 0.8379\n",
            "Epoch 13/20\n",
            "625/625 [==============================] - 10s 16ms/step - loss: 0.0362 - accuracy: 0.9893 - val_loss: 0.6673 - val_accuracy: 0.8437\n",
            "Epoch 14/20\n",
            "625/625 [==============================] - 10s 15ms/step - loss: 0.0252 - accuracy: 0.9922 - val_loss: 0.7778 - val_accuracy: 0.8426\n",
            "Epoch 15/20\n",
            "625/625 [==============================] - 9s 15ms/step - loss: 0.0136 - accuracy: 0.9962 - val_loss: 0.7925 - val_accuracy: 0.8409\n",
            "Epoch 16/20\n",
            "625/625 [==============================] - 10s 16ms/step - loss: 0.0190 - accuracy: 0.9943 - val_loss: 0.7750 - val_accuracy: 0.8407\n",
            "Epoch 17/20\n",
            "625/625 [==============================] - 11s 17ms/step - loss: 0.0148 - accuracy: 0.9954 - val_loss: 0.8786 - val_accuracy: 0.8425\n",
            "Epoch 18/20\n",
            "625/625 [==============================] - 10s 16ms/step - loss: 0.0152 - accuracy: 0.9955 - val_loss: 0.9418 - val_accuracy: 0.8300\n",
            "Epoch 19/20\n",
            "625/625 [==============================] - 9s 15ms/step - loss: 0.0136 - accuracy: 0.9960 - val_loss: 0.8432 - val_accuracy: 0.8321\n",
            "Epoch 20/20\n",
            "625/625 [==============================] - 10s 16ms/step - loss: 0.0120 - accuracy: 0.9962 - val_loss: 0.9360 - val_accuracy: 0.8338\n"
          ]
        }
      ],
      "source": [
        "model = Sequential()\n",
        "\n",
        "model.add(Embedding(input_dim=num_words, output_dim=100,\n",
        "                    input_length=128, trainable=True))\n",
        "model.add(LSTM(100, dropout=0.3, return_sequences=True))\n",
        "model.add(LSTM(100, dropout=0.3))\n",
        "model.add(Dense(1, activation='sigmoid'))\n",
        "\n",
        "model.compile(loss='binary_crossentropy', optimizer='adam', metrics=['accuracy'])\n",
        "print(model.summary())\n",
        "history = model.fit(X_train, Y_train, validation_data=(X_test, Y_test), epochs=20, batch_size=64)"
      ]
    },
    {
      "cell_type": "code",
      "execution_count": null,
      "metadata": {
        "id": "pNfDogXiJi0U",
        "outputId": "4854570e-b676-4e87-8d22-b008a427d552",
        "colab": {
          "base_uri": "https://localhost:8080/"
        }
      },
      "outputs": [
        {
          "output_type": "stream",
          "name": "stdout",
          "text": [
            "Accuracy: 83.38%\n"
          ]
        }
      ],
      "source": [
        "scores = model.evaluate(X_test, Y_test, verbose=0)\n",
        "print(\"Accuracy: %.2f%%\" % (scores[1]*100))"
      ]
    },
    {
      "cell_type": "code",
      "execution_count": null,
      "metadata": {
        "id": "d9Vzb72XJi0U",
        "outputId": "5e034f36-62ba-4e35-a993-cb10963afcd8",
        "colab": {
          "base_uri": "https://localhost:8080/",
          "height": 373
        }
      },
      "outputs": [
        {
          "output_type": "display_data",
          "data": {
            "text/plain": [
              "<Figure size 1500x400 with 1 Axes>"
            ],
            "image/png": "[encoded data removed]"
          },
          "metadata": {}
        }
      ],
      "source": [
        "plt.figure(figsize=(15,4))\n",
        "epochs = range(1, len(history.history['accuracy'])+1)\n",
        "plt.plot(epochs, history.history['loss'], 'b', label='Training Loss', color='red')\n",
        "plt.plot(epochs, history.history['val_loss'], 'b', label='Validation Loss')\n",
        "plt.legend()\n",
        "plt.show()"
      ]
    },
    {
      "cell_type": "code",
      "execution_count": null,
      "metadata": {
        "id": "rGqpB3NJJi0V",
        "outputId": "40129380-ab2e-474d-d652-aa0eeb2cc72a",
        "colab": {
          "base_uri": "https://localhost:8080/",
          "height": 431
        }
      },
      "outputs": [
        {
          "output_type": "display_data",
          "data": {
            "text/plain": [
              "<Figure size 1600x500 with 1 Axes>"
            ],
            "image/png": "[encoded data removed]"
          },
          "metadata": {}
        }
      ],
      "source": [
        "plt.figure(figsize=(16,5))\n",
        "epochs = range(1, len(history.history['accuracy'])+1)\n",
        "plt.plot(epochs, history.history['accuracy'], 'b', label='Training Accuracy', color='red')\n",
        "plt.plot(epochs, history.history['val_accuracy'], 'b', label='Validation Accuracy')\n",
        "plt.legend()\n",
        "plt.show()"
      ]
    },
    {
      "cell_type": "code",
      "execution_count": null,
      "metadata": {
        "id": "Bf3AtK-0Ji0V",
        "colab": {
          "base_uri": "https://localhost:8080/"
        },
        "outputId": "e8059a34-43f4-4395-b22e-a7e926c2d516"
      },
      "outputs": [
        {
          "output_type": "stream",
          "name": "stdout",
          "text": [
            "The movie was good but it was boring.\n",
            "1/1 [==============================] - 0s 22ms/step\n",
            "probability of positive: [0.02411283]\n"
          ]
        }
      ],
      "source": [
        "\n",
        "validation_sentence = ['The movie was good but it was boring.']\n",
        "validation_sentence_tokened = tokenizer.texts_to_sequences(validation_sentence)\n",
        "validation_sentence_padded = pad_sequences (validation_sentence_tokened, maxlen=128,\n",
        "                                            truncating='post', padding='post')\n",
        "print(validation_sentence[0])\n",
        "print(\"probability of positive: {}\".format(model.predict(validation_sentence_padded)[0]))"
      ]
    }
  ],
  "metadata": {
    "kernelspec": {
      "display_name": "Python 3",
      "name": "python3"
    },
    "language_info": {
      "codemirror_mode": {
        "name": "ipython",
        "version": 3
      },
      "file_extension": ".py",
      "mimetype": "text/x-python",
      "name": "python",
      "nbconvert_exporter": "python",
      "pygments_lexer": "ipython3",
      "version": "3.11.1"
    },
    "colab": {
      "provenance": [],
      "gpuType": "T4"
    },
    "accelerator": "GPU"
  },
  "nbformat": 4,
  "nbformat_minor": 0
}